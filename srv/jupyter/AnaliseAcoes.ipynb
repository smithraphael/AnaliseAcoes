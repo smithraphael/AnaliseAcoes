{
 "cells": [
  {
   "cell_type": "code",
   "execution_count": null,
   "metadata": {
    "collapsed": false,
    "scrolled": true
   },
   "outputs": [],
   "source": [
    "import pandas as pd\n",
    "import xlrd\n",
    "import glob\n",
    "import matplotlib.pyplot as plt\n",
    "import plotly.plotly as py\n",
    "import plotly.graph_objs as go\n",
    "import plotly \n",
    "from plotly import __version__\n",
    "from plotly.offline import download_plotlyjs, init_notebook_mode, plot, iplot\n",
    "from plotly.graph_objs import Scatter, Figure, Layout\n",
    "init_notebook_mode(connected=True)\n",
    "import numpy as np\n",
    "from yahoo_finance import Share"
   ]
  },
  {
   "cell_type": "code",
   "execution_count": null,
   "metadata": {
    "collapsed": false,
    "scrolled": true
   },
   "outputs": [],
   "source": [
    "#Parâmetros\n",
    "path ='/home/rsmith/Raphael/Ações/excel_files'\n",
    "filenames = glob.glob(path + \"/*.xls\")\n",
    "sheetnames = ['Bal. Patrim.','Dem. Result.']"
   ]
  },
  {
   "cell_type": "code",
   "execution_count": null,
   "metadata": {
    "collapsed": false
   },
   "outputs": [],
   "source": [
    "#qtd de ações\n",
    "qtd_acoes = pd.read_csv('/home/rsmith/Raphael/Ações/CSVs/dados complementares/dados complementares.csv')"
   ]
  },
  {
   "cell_type": "code",
   "execution_count": null,
   "metadata": {
    "collapsed": false,
    "scrolled": true
   },
   "outputs": [],
   "source": [
    "#Criação de balanços\n",
    "balanco = pd.DataFrame()\n",
    "sheetname = sheetnames[0]\n",
    "for file in filenames:\n",
    "                       \n",
    "            df = pd.read_excel(file, \n",
    "                           sheetname = sheetname,\n",
    "                           header=1,\n",
    "                           convert_float=True,\n",
    "                           thousands=',')\n",
    "\n",
    "            if sheetname == 'Bal. Patrim.':\n",
    "                df['tipo'] = df.index.values\n",
    "            else:\n",
    "                df.columns.values[0] = 'tipo'\n",
    "\n",
    "            df_melt = pd.melt(df, id_vars=['tipo'])\n",
    "            df_melt.rename(columns = {df_melt.columns[1]:'data'}, inplace=True)\n",
    "            df_melt.rename(columns = {df_melt.columns[2]:'valor'}, inplace=True)\n",
    "\n",
    "            df_melt['papel'] = file[46:51]\n",
    "\n",
    "            balanco = balanco.append(df_melt)\n",
    "\n"
   ]
  },
  {
   "cell_type": "code",
   "execution_count": null,
   "metadata": {
    "collapsed": false,
    "scrolled": true
   },
   "outputs": [],
   "source": [
    "#Criação dos demonstrativos\n",
    "demonstrativo = pd.DataFrame()\n",
    "sheetname = sheetnames[1]\n",
    "for file in filenames:\n",
    "                       \n",
    "            df = pd.read_excel(file, \n",
    "                           sheetname = sheetname,\n",
    "                           header=1,\n",
    "                           convert_float=True,\n",
    "                           thousands=',')\n",
    "\n",
    "            if sheetname == 'Bal. Patrim.':\n",
    "                df['tipo'] = df.index.values\n",
    "            else:\n",
    "                df.columns.values[0] = 'tipo'\n",
    "\n",
    "            df_melt = pd.melt(df, id_vars=['tipo'])\n",
    "            df_melt.rename(columns = {df_melt.columns[1]:'data'}, inplace=True)\n",
    "            df_melt.rename(columns = {df_melt.columns[2]:'valor'}, inplace=True)\n",
    "\n",
    "            df_melt['papel'] = file[46:51]\n",
    "\n",
    "            demonstrativo = demonstrativo.append(df_melt)"
   ]
  },
  {
   "cell_type": "code",
   "execution_count": null,
   "metadata": {
    "collapsed": false,
    "scrolled": true
   },
   "outputs": [],
   "source": [
    "dados = balanco.append(demonstrativo)\n",
    "dados['data'] = dados.data.str[6:10] +'-'+dados.data.str[3:5]+'-'+dados.data.str[0:2]"
   ]
  },
  {
   "cell_type": "code",
   "execution_count": null,
   "metadata": {
    "collapsed": false
   },
   "outputs": [],
   "source": [
    "all_dados = pd.merge(left=dados,right=qtd_acoes, how='left', left_on='papel', right_on='papel')\n"
   ]
  },
  {
   "cell_type": "markdown",
   "metadata": {},
   "source": [
    "# Análise"
   ]
  },
  {
   "cell_type": "code",
   "execution_count": null,
   "metadata": {
    "collapsed": true
   },
   "outputs": [],
   "source": [
    "acao = 'BSEV3'"
   ]
  },
  {
   "cell_type": "markdown",
   "metadata": {},
   "source": [
    "## Patrimônio Líquido"
   ]
  },
  {
   "cell_type": "code",
   "execution_count": null,
   "metadata": {
    "collapsed": false
   },
   "outputs": [],
   "source": [
    "patrim_liq = all_dados.loc[(all_dados.tipo == 'Patrimônio Líquido') &\n",
    "               (all_dados.papel == acao), ['data','valor','papel']]\n",
    "\n",
    "data = [go.Bar(\n",
    "            x=patrim_liq['data'],\n",
    "            y=patrim_liq['valor']\n",
    "    )]\n",
    "iplot(data, filename='basic-bar')"
   ]
  },
  {
   "cell_type": "markdown",
   "metadata": {
    "collapsed": false
   },
   "source": [
    "## Lucro"
   ]
  },
  {
   "cell_type": "code",
   "execution_count": null,
   "metadata": {
    "collapsed": false
   },
   "outputs": [],
   "source": [
    "lucro = all_dados.loc[(all_dados.tipo == 'Lucro/Prejuízo do Período') &\n",
    "               (all_dados.papel == acao), ['data','valor','papel','Qtd de acoes']]\n",
    "\n",
    "data = [go.Bar(\n",
    "            x=lucro['data'],\n",
    "            y=lucro['valor']\n",
    "    )]\n",
    "iplot(data, filename='basic-bar')"
   ]
  },
  {
   "cell_type": "markdown",
   "metadata": {},
   "source": [
    "## VPA"
   ]
  },
  {
   "cell_type": "code",
   "execution_count": null,
   "metadata": {
    "collapsed": false
   },
   "outputs": [],
   "source": [
    "vpa = all_dados.loc[(all_dados.tipo == 'Patrimônio Líquido')&\n",
    "               (all_dados.papel == acao), ['data','valor','papel','Qtd de acoes']]\n",
    "\n",
    "vpa['vpa'] = vpa['valor'] / vpa['Qtd de acoes']\n",
    "\n",
    "lucro['lpa'] = lucro['valor'] / lucro['Qtd de acoes']\n",
    "\n",
    "vpa = go.Scatter(\n",
    "    x = vpa['data'],\n",
    "    y = vpa['vpa'],\n",
    "    mode = 'lines',\n",
    "    name = 'VPA'\n",
    ")\n",
    "lpa = go.Scatter(\n",
    "    x = lucro['data'],\n",
    "    y = lucro['lpa'],\n",
    "    mode = 'lines',\n",
    "    name = 'LPA'\n",
    ")\n",
    "\n",
    "data = [vpa, lpa]\n",
    "\n",
    "iplot(data)"
   ]
  },
  {
   "cell_type": "markdown",
   "metadata": {},
   "source": [
    "## Margem Líquida"
   ]
  },
  {
   "cell_type": "code",
   "execution_count": null,
   "metadata": {
    "collapsed": false
   },
   "outputs": [],
   "source": [
    "receita = all_dados.loc[(all_dados.tipo == 'Receita Líquida de Vendas e/ou Serviços') &\n",
    "            (all_dados.papel == acao), ['data','valor','tipo']]\n",
    "\n",
    "receita = receita.rename(columns={'valor': 'vendas'})\n",
    "\n",
    "lucro = lucro.rename(columns={'valor':'lucro'})\n",
    "\n",
    "margem = pd.merge(left=receita,right=lucro, left_on='data', right_on='data')\n",
    "\n",
    "margem['margem'] = margem['lucro'] / margem['vendas'] * 100\n",
    "\n",
    "data = [go.Bar(\n",
    "            x=margem['data'],\n",
    "            y=margem['margem']\n",
    "    )]\n",
    "iplot(data, filename='basic-bar')"
   ]
  },
  {
   "cell_type": "markdown",
   "metadata": {},
   "source": [
    "## Ratio"
   ]
  },
  {
   "cell_type": "code",
   "execution_count": null,
   "metadata": {
    "collapsed": false
   },
   "outputs": [],
   "source": [
    "# Passivo Total\n",
    "passivo_circulante = all_dados.loc[(all_dados.tipo == 'Passivo Circulante') &\n",
    "            (all_dados.papel == acao), ['data','valor']]\n",
    "\n",
    "passivo_circulante = passivo_circulante.rename(columns={'valor': 'passivo circulante'})\n",
    "\n",
    "passivo_nao_circulante = all_dados.loc[(all_dados.tipo == 'Passivo Não Circulante') &\n",
    "            (all_dados.papel == acao), ['data','valor']]\n",
    "\n",
    "passivo_nao_circulante = passivo_nao_circulante.rename(columns={'valor': 'passivo nao circulante'})\n",
    "\n",
    "passivo = pd.merge(left=passivo_circulante,right=passivo_nao_circulante, left_on='data', right_on='data')\n",
    "\n",
    "passivo['passivo'] = passivo['passivo circulante'] + passivo['passivo nao circulante']\n",
    "\n",
    "#Ativo Total\n",
    "\n",
    "ativo = all_dados.loc[(all_dados.tipo == 'Ativo Total') &\n",
    "            (all_dados.papel == acao), ['data','valor']]\n",
    "\n",
    "ativo = ativo.rename(columns={'valor':'ativo'})\n",
    "\n",
    "# Ratio\n",
    "\n",
    "ratio = pd.merge(left=passivo,right=ativo,left_on='data', right_on = 'data')\n",
    "ratio['ratio'] = ratio['ativo'] / ratio['passivo']\n",
    "\n",
    "data = [go.Scatter(\n",
    "            x=ratio['data'],\n",
    "            y=ratio['ratio']\n",
    "    )]\n",
    "iplot(data, filename='basic-bar')"
   ]
  },
  {
   "cell_type": "markdown",
   "metadata": {
    "collapsed": true
   },
   "source": [
    "## Preço"
   ]
  },
  {
   "cell_type": "code",
   "execution_count": null,
   "metadata": {
    "collapsed": false
   },
   "outputs": [],
   "source": [
    "acao_yahoo = acao + '.SA'\n",
    "acao_yahoo = Share(acao_yahoo)\n",
    "\n",
    "preco_atual = float(acao_yahoo.get_price())\n",
    "preco_atual"
   ]
  },
  {
   "cell_type": "markdown",
   "metadata": {},
   "source": [
    "### Preço / LPA"
   ]
  },
  {
   "cell_type": "code",
   "execution_count": null,
   "metadata": {
    "collapsed": false
   },
   "outputs": [],
   "source": [
    "# pegar os 4 últimos trimestres\n",
    "p_lpa = preco_atual / (sum(lucro['lpa'].head(4))*1000)\n",
    "print(round(p_lpa,2))"
   ]
  },
  {
   "cell_type": "markdown",
   "metadata": {
    "collapsed": true
   },
   "source": [
    "### Preço / VPA"
   ]
  },
  {
   "cell_type": "code",
   "execution_count": null,
   "metadata": {
    "collapsed": false
   },
   "outputs": [],
   "source": [
    "#sum(patrim_liq['valor'].head(1))\n",
    "vpa = all_dados.loc[(all_dados.tipo == 'Patrimônio Líquido')&\n",
    "               (all_dados.papel == acao), ['data','valor','papel','Qtd de acoes']]\n",
    "\n",
    "vpa['vpa'] = vpa['valor'] / vpa['Qtd de acoes']\n",
    "\n",
    "p_vpa = preco_atual / (sum(vpa['vpa'].head(1))*1000)\n",
    "print(round(p_vpa,2))"
   ]
  },
  {
   "cell_type": "code",
   "execution_count": null,
   "metadata": {
    "collapsed": true
   },
   "outputs": [],
   "source": [
    "    "
   ]
  },
  {
   "cell_type": "code",
   "execution_count": null,
   "metadata": {
    "collapsed": true
   },
   "outputs": [],
   "source": []
  }
 ],
 "metadata": {
  "kernelspec": {
   "display_name": "Python 3",
   "language": "python",
   "name": "python3"
  },
  "language_info": {
   "codemirror_mode": {
    "name": "ipython",
    "version": 3
   },
   "file_extension": ".py",
   "mimetype": "text/x-python",
   "name": "python",
   "nbconvert_exporter": "python",
   "pygments_lexer": "ipython3",
   "version": "3.5.2"
  }
 },
 "nbformat": 4,
 "nbformat_minor": 2
}
